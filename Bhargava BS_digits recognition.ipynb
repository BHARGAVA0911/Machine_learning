{
  "nbformat": 4,
  "nbformat_minor": 0,
  "metadata": {
    "colab": {
      "provenance": []
    },
    "kernelspec": {
      "name": "python3",
      "display_name": "Python 3"
    },
    "language_info": {
      "name": "python"
    },
    "accelerator": "GPU"
  },
  "cells": [
    {
      "cell_type": "code",
      "execution_count": 1,
      "metadata": {
        "id": "T7M5DUUn8FUB",
        "colab": {
          "base_uri": "https://localhost:8080/"
        },
        "outputId": "c97b8ef3-7e86-4887-ed96-04bdad7d439c"
      },
      "outputs": [
        {
          "output_type": "stream",
          "name": "stdout",
          "text": [
            "Downloading data from https://storage.googleapis.com/tensorflow/tf-keras-datasets/mnist.npz\n",
            "11490434/11490434 [==============================] - 1s 0us/step\n"
          ]
        }
      ],
      "source": [
        "import tensorflow as tf\n",
        "from tensorflow import keras\n",
        "(x_train, y_train), (x_test, y_test) = tf.keras.datasets.mnist.load_data(path=\"mnist.npz\")"
      ]
    },
    {
      "cell_type": "code",
      "source": [
        "x_train.shape"
      ],
      "metadata": {
        "colab": {
          "base_uri": "https://localhost:8080/"
        },
        "id": "QV_nMQoFBBwf",
        "outputId": "85a721ff-28d7-4d6f-a601-0113aa1049ac"
      },
      "execution_count": 2,
      "outputs": [
        {
          "output_type": "execute_result",
          "data": {
            "text/plain": [
              "(60000, 28, 28)"
            ]
          },
          "metadata": {},
          "execution_count": 2
        }
      ]
    },
    {
      "cell_type": "code",
      "source": [
        "x_test.shape"
      ],
      "metadata": {
        "colab": {
          "base_uri": "https://localhost:8080/"
        },
        "id": "U81ys6wvBGuu",
        "outputId": "db18700d-55b0-44fe-a0f7-e98c82aab4f8"
      },
      "execution_count": 3,
      "outputs": [
        {
          "output_type": "execute_result",
          "data": {
            "text/plain": [
              "(10000, 28, 28)"
            ]
          },
          "metadata": {},
          "execution_count": 3
        }
      ]
    },
    {
      "cell_type": "code",
      "source": [
        "y_train.shape"
      ],
      "metadata": {
        "colab": {
          "base_uri": "https://localhost:8080/"
        },
        "id": "84BAeFhaBMHb",
        "outputId": "4062fc4b-cc8b-4e97-af92-3db8a11b3da9"
      },
      "execution_count": 4,
      "outputs": [
        {
          "output_type": "execute_result",
          "data": {
            "text/plain": [
              "(60000,)"
            ]
          },
          "metadata": {},
          "execution_count": 4
        }
      ]
    },
    {
      "cell_type": "code",
      "source": [
        "y_test.shape"
      ],
      "metadata": {
        "colab": {
          "base_uri": "https://localhost:8080/"
        },
        "id": "UdZjqYRfBPWo",
        "outputId": "8efa609b-21b5-4e8b-c1be-64b7541c3669"
      },
      "execution_count": 5,
      "outputs": [
        {
          "output_type": "execute_result",
          "data": {
            "text/plain": [
              "(10000,)"
            ]
          },
          "metadata": {},
          "execution_count": 5
        }
      ]
    },
    {
      "cell_type": "code",
      "source": [
        "import matplotlib.pyplot as plt\n",
        "plt.imshow(x_train[64],cmap = 'gray')\n",
        "plt.show()\n"
      ],
      "metadata": {
        "colab": {
          "base_uri": "https://localhost:8080/",
          "height": 430
        },
        "id": "VxNTMhvQ-mrY",
        "outputId": "d01f626c-fd24-46f0-cf3f-b2f394e2c35b"
      },
      "execution_count": 34,
      "outputs": [
        {
          "output_type": "display_data",
          "data": {
            "text/plain": [
              "<Figure size 640x480 with 1 Axes>"
            ],
            "image/png": "[encoded data removed]"
          },
          "metadata": {}
        }
      ]
    },
    {
      "cell_type": "code",
      "source": [
        "y_train"
      ],
      "metadata": {
        "colab": {
          "base_uri": "https://localhost:8080/"
        },
        "id": "sy1ZqFKOBZ7T",
        "outputId": "6b13a04e-e3aa-467c-8aee-88a5efd476bf"
      },
      "execution_count": 7,
      "outputs": [
        {
          "output_type": "execute_result",
          "data": {
            "text/plain": [
              "array([5, 0, 4, ..., 5, 6, 8], dtype=uint8)"
            ]
          },
          "metadata": {},
          "execution_count": 7
        }
      ]
    },
    {
      "cell_type": "code",
      "source": [
        "x_train[0]"
      ],
      "metadata": {
        "colab": {
          "base_uri": "https://localhost:8080/"
        },
        "id": "bBc2Q8KWBgCc",
        "outputId": "b36c704d-e8e6-4a48-fa7e-e7b9b6733d04"
      },
      "execution_count": 8,
      "outputs": [
        {
          "output_type": "execute_result",
          "data": {
            "text/plain": [
              "array([[  0,   0,   0,   0,   0,   0,   0,   0,   0,   0,   0,   0,   0,\n",
              "          0,   0,   0,   0,   0,   0,   0,   0,   0,   0,   0,   0,   0,\n",
              "          0,   0],\n",
              "       [  0,   0,   0,   0,   0,   0,   0,   0,   0,   0,   0,   0,   0,\n",
              "          0,   0,   0,   0,   0,   0,   0,   0,   0,   0,   0,   0,   0,\n",
              "          0,   0],\n",
              "       [  0,   0,   0,   0,   0,   0,   0,   0,   0,   0,   0,   0,   0,\n",
              "          0,   0,   0,   0,   0,   0,   0,   0,   0,   0,   0,   0,   0,\n",
              "          0,   0],\n",
              "       [  0,   0,   0,   0,   0,   0,   0,   0,   0,   0,   0,   0,   0,\n",
              "          0,   0,   0,   0,   0,   0,   0,   0,   0,   0,   0,   0,   0,\n",
              "          0,   0],\n",
              "       [  0,   0,   0,   0,   0,   0,   0,   0,   0,   0,   0,   0,   0,\n",
              "          0,   0,   0,   0,   0,   0,   0,   0,   0,   0,   0,   0,   0,\n",
              "          0,   0],\n",
              "       [  0,   0,   0,   0,   0,   0,   0,   0,   0,   0,   0,   0,   3,\n",
              "         18,  18,  18, 126, 136, 175,  26, 166, 255, 247, 127,   0,   0,\n",
              "          0,   0],\n",
              "       [  0,   0,   0,   0,   0,   0,   0,   0,  30,  36,  94, 154, 170,\n",
              "        253, 253, 253, 253, 253, 225, 172, 253, 242, 195,  64,   0,   0,\n",
              "          0,   0],\n",
              "       [  0,   0,   0,   0,   0,   0,   0,  49, 238, 253, 253, 253, 253,\n",
              "        253, 253, 253, 253, 251,  93,  82,  82,  56,  39,   0,   0,   0,\n",
              "          0,   0],\n",
              "       [  0,   0,   0,   0,   0,   0,   0,  18, 219, 253, 253, 253, 253,\n",
              "        253, 198, 182, 247, 241,   0,   0,   0,   0,   0,   0,   0,   0,\n",
              "          0,   0],\n",
              "       [  0,   0,   0,   0,   0,   0,   0,   0,  80, 156, 107, 253, 253,\n",
              "        205,  11,   0,  43, 154,   0,   0,   0,   0,   0,   0,   0,   0,\n",
              "          0,   0],\n",
              "       [  0,   0,   0,   0,   0,   0,   0,   0,   0,  14,   1, 154, 253,\n",
              "         90,   0,   0,   0,   0,   0,   0,   0,   0,   0,   0,   0,   0,\n",
              "          0,   0],\n",
              "       [  0,   0,   0,   0,   0,   0,   0,   0,   0,   0,   0, 139, 253,\n",
              "        190,   2,   0,   0,   0,   0,   0,   0,   0,   0,   0,   0,   0,\n",
              "          0,   0],\n",
              "       [  0,   0,   0,   0,   0,   0,   0,   0,   0,   0,   0,  11, 190,\n",
              "        253,  70,   0,   0,   0,   0,   0,   0,   0,   0,   0,   0,   0,\n",
              "          0,   0],\n",
              "       [  0,   0,   0,   0,   0,   0,   0,   0,   0,   0,   0,   0,  35,\n",
              "        241, 225, 160, 108,   1,   0,   0,   0,   0,   0,   0,   0,   0,\n",
              "          0,   0],\n",
              "       [  0,   0,   0,   0,   0,   0,   0,   0,   0,   0,   0,   0,   0,\n",
              "         81, 240, 253, 253, 119,  25,   0,   0,   0,   0,   0,   0,   0,\n",
              "          0,   0],\n",
              "       [  0,   0,   0,   0,   0,   0,   0,   0,   0,   0,   0,   0,   0,\n",
              "          0,  45, 186, 253, 253, 150,  27,   0,   0,   0,   0,   0,   0,\n",
              "          0,   0],\n",
              "       [  0,   0,   0,   0,   0,   0,   0,   0,   0,   0,   0,   0,   0,\n",
              "          0,   0,  16,  93, 252, 253, 187,   0,   0,   0,   0,   0,   0,\n",
              "          0,   0],\n",
              "       [  0,   0,   0,   0,   0,   0,   0,   0,   0,   0,   0,   0,   0,\n",
              "          0,   0,   0,   0, 249, 253, 249,  64,   0,   0,   0,   0,   0,\n",
              "          0,   0],\n",
              "       [  0,   0,   0,   0,   0,   0,   0,   0,   0,   0,   0,   0,   0,\n",
              "          0,  46, 130, 183, 253, 253, 207,   2,   0,   0,   0,   0,   0,\n",
              "          0,   0],\n",
              "       [  0,   0,   0,   0,   0,   0,   0,   0,   0,   0,   0,   0,  39,\n",
              "        148, 229, 253, 253, 253, 250, 182,   0,   0,   0,   0,   0,   0,\n",
              "          0,   0],\n",
              "       [  0,   0,   0,   0,   0,   0,   0,   0,   0,   0,  24, 114, 221,\n",
              "        253, 253, 253, 253, 201,  78,   0,   0,   0,   0,   0,   0,   0,\n",
              "          0,   0],\n",
              "       [  0,   0,   0,   0,   0,   0,   0,   0,  23,  66, 213, 253, 253,\n",
              "        253, 253, 198,  81,   2,   0,   0,   0,   0,   0,   0,   0,   0,\n",
              "          0,   0],\n",
              "       [  0,   0,   0,   0,   0,   0,  18, 171, 219, 253, 253, 253, 253,\n",
              "        195,  80,   9,   0,   0,   0,   0,   0,   0,   0,   0,   0,   0,\n",
              "          0,   0],\n",
              "       [  0,   0,   0,   0,  55, 172, 226, 253, 253, 253, 253, 244, 133,\n",
              "         11,   0,   0,   0,   0,   0,   0,   0,   0,   0,   0,   0,   0,\n",
              "          0,   0],\n",
              "       [  0,   0,   0,   0, 136, 253, 253, 253, 212, 135, 132,  16,   0,\n",
              "          0,   0,   0,   0,   0,   0,   0,   0,   0,   0,   0,   0,   0,\n",
              "          0,   0],\n",
              "       [  0,   0,   0,   0,   0,   0,   0,   0,   0,   0,   0,   0,   0,\n",
              "          0,   0,   0,   0,   0,   0,   0,   0,   0,   0,   0,   0,   0,\n",
              "          0,   0],\n",
              "       [  0,   0,   0,   0,   0,   0,   0,   0,   0,   0,   0,   0,   0,\n",
              "          0,   0,   0,   0,   0,   0,   0,   0,   0,   0,   0,   0,   0,\n",
              "          0,   0],\n",
              "       [  0,   0,   0,   0,   0,   0,   0,   0,   0,   0,   0,   0,   0,\n",
              "          0,   0,   0,   0,   0,   0,   0,   0,   0,   0,   0,   0,   0,\n",
              "          0,   0]], dtype=uint8)"
            ]
          },
          "metadata": {},
          "execution_count": 8
        }
      ]
    },
    {
      "cell_type": "code",
      "source": [
        "x_train[0].max()"
      ],
      "metadata": {
        "colab": {
          "base_uri": "https://localhost:8080/"
        },
        "id": "d1GX_GL8BnBY",
        "outputId": "0d0aa5c5-aca7-42f8-dd6a-15933b920905"
      },
      "execution_count": 9,
      "outputs": [
        {
          "output_type": "execute_result",
          "data": {
            "text/plain": [
              "255"
            ]
          },
          "metadata": {},
          "execution_count": 9
        }
      ]
    },
    {
      "cell_type": "code",
      "source": [
        "x_train[0].min()"
      ],
      "metadata": {
        "colab": {
          "base_uri": "https://localhost:8080/"
        },
        "id": "yXKCcVytBvhw",
        "outputId": "2829d3ab-6bcd-4758-ede9-258b00f9bc81"
      },
      "execution_count": 10,
      "outputs": [
        {
          "output_type": "execute_result",
          "data": {
            "text/plain": [
              "0"
            ]
          },
          "metadata": {},
          "execution_count": 10
        }
      ]
    },
    {
      "cell_type": "code",
      "source": [
        "x_train=x_train/225\n",
        "x_test=x_test/225"
      ],
      "metadata": {
        "id": "dPkPBn44CF7C"
      },
      "execution_count": 11,
      "outputs": []
    },
    {
      "cell_type": "code",
      "source": [
        "x_train[0]"
      ],
      "metadata": {
        "colab": {
          "base_uri": "https://localhost:8080/"
        },
        "id": "L7YHIILfCQuo",
        "outputId": "f9758352-c00e-42ee-bc7a-0c7e4718634a"
      },
      "execution_count": 12,
      "outputs": [
        {
          "output_type": "execute_result",
          "data": {
            "text/plain": [
              "array([[0.        , 0.        , 0.        , 0.        , 0.        ,\n",
              "        0.        , 0.        , 0.        , 0.        , 0.        ,\n",
              "        0.        , 0.        , 0.        , 0.        , 0.        ,\n",
              "        0.        , 0.        , 0.        , 0.        , 0.        ,\n",
              "        0.        , 0.        , 0.        , 0.        , 0.        ,\n",
              "        0.        , 0.        , 0.        ],\n",
              "       [0.        , 0.        , 0.        , 0.        , 0.        ,\n",
              "        0.        , 0.        , 0.        , 0.        , 0.        ,\n",
              "        0.        , 0.        , 0.        , 0.        , 0.        ,\n",
              "        0.        , 0.        , 0.        , 0.        , 0.        ,\n",
              "        0.        , 0.        , 0.        , 0.        , 0.        ,\n",
              "        0.        , 0.        , 0.        ],\n",
              "       [0.        , 0.        , 0.        , 0.        , 0.        ,\n",
              "        0.        , 0.        , 0.        , 0.        , 0.        ,\n",
              "        0.        , 0.        , 0.        , 0.        , 0.        ,\n",
              "        0.        , 0.        , 0.        , 0.        , 0.        ,\n",
              "        0.        , 0.        , 0.        , 0.        , 0.        ,\n",
              "        0.        , 0.        , 0.        ],\n",
              "       [0.        , 0.        , 0.        , 0.        , 0.        ,\n",
              "        0.        , 0.        , 0.        , 0.        , 0.        ,\n",
              "        0.        , 0.        , 0.        , 0.        , 0.        ,\n",
              "        0.        , 0.        , 0.        , 0.        , 0.        ,\n",
              "        0.        , 0.        , 0.        , 0.        , 0.        ,\n",
              "        0.        , 0.        , 0.        ],\n",
              "       [0.        , 0.        , 0.        , 0.        , 0.        ,\n",
              "        0.        , 0.        , 0.        , 0.        , 0.        ,\n",
              "        0.        , 0.        , 0.        , 0.        , 0.        ,\n",
              "        0.        , 0.        , 0.        , 0.        , 0.        ,\n",
              "        0.        , 0.        , 0.        , 0.        , 0.        ,\n",
              "        0.        , 0.        , 0.        ],\n",
              "       [0.        , 0.        , 0.        , 0.        , 0.        ,\n",
              "        0.        , 0.        , 0.        , 0.        , 0.        ,\n",
              "        0.        , 0.        , 0.01333333, 0.08      , 0.08      ,\n",
              "        0.08      , 0.56      , 0.60444444, 0.77777778, 0.11555556,\n",
              "        0.73777778, 1.13333333, 1.09777778, 0.56444444, 0.        ,\n",
              "        0.        , 0.        , 0.        ],\n",
              "       [0.        , 0.        , 0.        , 0.        , 0.        ,\n",
              "        0.        , 0.        , 0.        , 0.13333333, 0.16      ,\n",
              "        0.41777778, 0.68444444, 0.75555556, 1.12444444, 1.12444444,\n",
              "        1.12444444, 1.12444444, 1.12444444, 1.        , 0.76444444,\n",
              "        1.12444444, 1.07555556, 0.86666667, 0.28444444, 0.        ,\n",
              "        0.        , 0.        , 0.        ],\n",
              "       [0.        , 0.        , 0.        , 0.        , 0.        ,\n",
              "        0.        , 0.        , 0.21777778, 1.05777778, 1.12444444,\n",
              "        1.12444444, 1.12444444, 1.12444444, 1.12444444, 1.12444444,\n",
              "        1.12444444, 1.12444444, 1.11555556, 0.41333333, 0.36444444,\n",
              "        0.36444444, 0.24888889, 0.17333333, 0.        , 0.        ,\n",
              "        0.        , 0.        , 0.        ],\n",
              "       [0.        , 0.        , 0.        , 0.        , 0.        ,\n",
              "        0.        , 0.        , 0.08      , 0.97333333, 1.12444444,\n",
              "        1.12444444, 1.12444444, 1.12444444, 1.12444444, 0.88      ,\n",
              "        0.80888889, 1.09777778, 1.07111111, 0.        , 0.        ,\n",
              "        0.        , 0.        , 0.        , 0.        , 0.        ,\n",
              "        0.        , 0.        , 0.        ],\n",
              "       [0.        , 0.        , 0.        , 0.        , 0.        ,\n",
              "        0.        , 0.        , 0.        , 0.35555556, 0.69333333,\n",
              "        0.47555556, 1.12444444, 1.12444444, 0.91111111, 0.04888889,\n",
              "        0.        , 0.19111111, 0.68444444, 0.        , 0.        ,\n",
              "        0.        , 0.        , 0.        , 0.        , 0.        ,\n",
              "        0.        , 0.        , 0.        ],\n",
              "       [0.        , 0.        , 0.        , 0.        , 0.        ,\n",
              "        0.        , 0.        , 0.        , 0.        , 0.06222222,\n",
              "        0.00444444, 0.68444444, 1.12444444, 0.4       , 0.        ,\n",
              "        0.        , 0.        , 0.        , 0.        , 0.        ,\n",
              "        0.        , 0.        , 0.        , 0.        , 0.        ,\n",
              "        0.        , 0.        , 0.        ],\n",
              "       [0.        , 0.        , 0.        , 0.        , 0.        ,\n",
              "        0.        , 0.        , 0.        , 0.        , 0.        ,\n",
              "        0.        , 0.61777778, 1.12444444, 0.84444444, 0.00888889,\n",
              "        0.        , 0.        , 0.        , 0.        , 0.        ,\n",
              "        0.        , 0.        , 0.        , 0.        , 0.        ,\n",
              "        0.        , 0.        , 0.        ],\n",
              "       [0.        , 0.        , 0.        , 0.        , 0.        ,\n",
              "        0.        , 0.        , 0.        , 0.        , 0.        ,\n",
              "        0.        , 0.04888889, 0.84444444, 1.12444444, 0.31111111,\n",
              "        0.        , 0.        , 0.        , 0.        , 0.        ,\n",
              "        0.        , 0.        , 0.        , 0.        , 0.        ,\n",
              "        0.        , 0.        , 0.        ],\n",
              "       [0.        , 0.        , 0.        , 0.        , 0.        ,\n",
              "        0.        , 0.        , 0.        , 0.        , 0.        ,\n",
              "        0.        , 0.        , 0.15555556, 1.07111111, 1.        ,\n",
              "        0.71111111, 0.48      , 0.00444444, 0.        , 0.        ,\n",
              "        0.        , 0.        , 0.        , 0.        , 0.        ,\n",
              "        0.        , 0.        , 0.        ],\n",
              "       [0.        , 0.        , 0.        , 0.        , 0.        ,\n",
              "        0.        , 0.        , 0.        , 0.        , 0.        ,\n",
              "        0.        , 0.        , 0.        , 0.36      , 1.06666667,\n",
              "        1.12444444, 1.12444444, 0.52888889, 0.11111111, 0.        ,\n",
              "        0.        , 0.        , 0.        , 0.        , 0.        ,\n",
              "        0.        , 0.        , 0.        ],\n",
              "       [0.        , 0.        , 0.        , 0.        , 0.        ,\n",
              "        0.        , 0.        , 0.        , 0.        , 0.        ,\n",
              "        0.        , 0.        , 0.        , 0.        , 0.2       ,\n",
              "        0.82666667, 1.12444444, 1.12444444, 0.66666667, 0.12      ,\n",
              "        0.        , 0.        , 0.        , 0.        , 0.        ,\n",
              "        0.        , 0.        , 0.        ],\n",
              "       [0.        , 0.        , 0.        , 0.        , 0.        ,\n",
              "        0.        , 0.        , 0.        , 0.        , 0.        ,\n",
              "        0.        , 0.        , 0.        , 0.        , 0.        ,\n",
              "        0.07111111, 0.41333333, 1.12      , 1.12444444, 0.83111111,\n",
              "        0.        , 0.        , 0.        , 0.        , 0.        ,\n",
              "        0.        , 0.        , 0.        ],\n",
              "       [0.        , 0.        , 0.        , 0.        , 0.        ,\n",
              "        0.        , 0.        , 0.        , 0.        , 0.        ,\n",
              "        0.        , 0.        , 0.        , 0.        , 0.        ,\n",
              "        0.        , 0.        , 1.10666667, 1.12444444, 1.10666667,\n",
              "        0.28444444, 0.        , 0.        , 0.        , 0.        ,\n",
              "        0.        , 0.        , 0.        ],\n",
              "       [0.        , 0.        , 0.        , 0.        , 0.        ,\n",
              "        0.        , 0.        , 0.        , 0.        , 0.        ,\n",
              "        0.        , 0.        , 0.        , 0.        , 0.20444444,\n",
              "        0.57777778, 0.81333333, 1.12444444, 1.12444444, 0.92      ,\n",
              "        0.00888889, 0.        , 0.        , 0.        , 0.        ,\n",
              "        0.        , 0.        , 0.        ],\n",
              "       [0.        , 0.        , 0.        , 0.        , 0.        ,\n",
              "        0.        , 0.        , 0.        , 0.        , 0.        ,\n",
              "        0.        , 0.        , 0.17333333, 0.65777778, 1.01777778,\n",
              "        1.12444444, 1.12444444, 1.12444444, 1.11111111, 0.80888889,\n",
              "        0.        , 0.        , 0.        , 0.        , 0.        ,\n",
              "        0.        , 0.        , 0.        ],\n",
              "       [0.        , 0.        , 0.        , 0.        , 0.        ,\n",
              "        0.        , 0.        , 0.        , 0.        , 0.        ,\n",
              "        0.10666667, 0.50666667, 0.98222222, 1.12444444, 1.12444444,\n",
              "        1.12444444, 1.12444444, 0.89333333, 0.34666667, 0.        ,\n",
              "        0.        , 0.        , 0.        , 0.        , 0.        ,\n",
              "        0.        , 0.        , 0.        ],\n",
              "       [0.        , 0.        , 0.        , 0.        , 0.        ,\n",
              "        0.        , 0.        , 0.        , 0.10222222, 0.29333333,\n",
              "        0.94666667, 1.12444444, 1.12444444, 1.12444444, 1.12444444,\n",
              "        0.88      , 0.36      , 0.00888889, 0.        , 0.        ,\n",
              "        0.        , 0.        , 0.        , 0.        , 0.        ,\n",
              "        0.        , 0.        , 0.        ],\n",
              "       [0.        , 0.        , 0.        , 0.        , 0.        ,\n",
              "        0.        , 0.08      , 0.76      , 0.97333333, 1.12444444,\n",
              "        1.12444444, 1.12444444, 1.12444444, 0.86666667, 0.35555556,\n",
              "        0.04      , 0.        , 0.        , 0.        , 0.        ,\n",
              "        0.        , 0.        , 0.        , 0.        , 0.        ,\n",
              "        0.        , 0.        , 0.        ],\n",
              "       [0.        , 0.        , 0.        , 0.        , 0.24444444,\n",
              "        0.76444444, 1.00444444, 1.12444444, 1.12444444, 1.12444444,\n",
              "        1.12444444, 1.08444444, 0.59111111, 0.04888889, 0.        ,\n",
              "        0.        , 0.        , 0.        , 0.        , 0.        ,\n",
              "        0.        , 0.        , 0.        , 0.        , 0.        ,\n",
              "        0.        , 0.        , 0.        ],\n",
              "       [0.        , 0.        , 0.        , 0.        , 0.60444444,\n",
              "        1.12444444, 1.12444444, 1.12444444, 0.94222222, 0.6       ,\n",
              "        0.58666667, 0.07111111, 0.        , 0.        , 0.        ,\n",
              "        0.        , 0.        , 0.        , 0.        , 0.        ,\n",
              "        0.        , 0.        , 0.        , 0.        , 0.        ,\n",
              "        0.        , 0.        , 0.        ],\n",
              "       [0.        , 0.        , 0.        , 0.        , 0.        ,\n",
              "        0.        , 0.        , 0.        , 0.        , 0.        ,\n",
              "        0.        , 0.        , 0.        , 0.        , 0.        ,\n",
              "        0.        , 0.        , 0.        , 0.        , 0.        ,\n",
              "        0.        , 0.        , 0.        , 0.        , 0.        ,\n",
              "        0.        , 0.        , 0.        ],\n",
              "       [0.        , 0.        , 0.        , 0.        , 0.        ,\n",
              "        0.        , 0.        , 0.        , 0.        , 0.        ,\n",
              "        0.        , 0.        , 0.        , 0.        , 0.        ,\n",
              "        0.        , 0.        , 0.        , 0.        , 0.        ,\n",
              "        0.        , 0.        , 0.        , 0.        , 0.        ,\n",
              "        0.        , 0.        , 0.        ],\n",
              "       [0.        , 0.        , 0.        , 0.        , 0.        ,\n",
              "        0.        , 0.        , 0.        , 0.        , 0.        ,\n",
              "        0.        , 0.        , 0.        , 0.        , 0.        ,\n",
              "        0.        , 0.        , 0.        , 0.        , 0.        ,\n",
              "        0.        , 0.        , 0.        , 0.        , 0.        ,\n",
              "        0.        , 0.        , 0.        ]])"
            ]
          },
          "metadata": {},
          "execution_count": 12
        }
      ]
    },
    {
      "cell_type": "code",
      "source": [
        "[x_train][0].shape"
      ],
      "metadata": {
        "colab": {
          "base_uri": "https://localhost:8080/"
        },
        "id": "WmAf8GnfCTGd",
        "outputId": "50dcb043-1724-40db-ab5e-7924c02f9b1f"
      },
      "execution_count": 13,
      "outputs": [
        {
          "output_type": "execute_result",
          "data": {
            "text/plain": [
              "(60000, 28, 28)"
            ]
          },
          "metadata": {},
          "execution_count": 13
        }
      ]
    },
    {
      "cell_type": "code",
      "source": [
        "y_train[0].shape"
      ],
      "metadata": {
        "colab": {
          "base_uri": "https://localhost:8080/"
        },
        "id": "ef33anuVClt0",
        "outputId": "e9acaeda-a6e0-46db-d04a-c7bd7911790f"
      },
      "execution_count": 14,
      "outputs": [
        {
          "output_type": "execute_result",
          "data": {
            "text/plain": [
              "()"
            ]
          },
          "metadata": {},
          "execution_count": 14
        }
      ]
    },
    {
      "cell_type": "code",
      "source": [
        "y_test"
      ],
      "metadata": {
        "colab": {
          "base_uri": "https://localhost:8080/"
        },
        "id": "LwnffvTXCyGp",
        "outputId": "61da57f4-85c2-4bc9-9f8e-3a1152f5c50a"
      },
      "execution_count": 15,
      "outputs": [
        {
          "output_type": "execute_result",
          "data": {
            "text/plain": [
              "array([7, 2, 1, ..., 4, 5, 6], dtype=uint8)"
            ]
          },
          "metadata": {},
          "execution_count": 15
        }
      ]
    },
    {
      "cell_type": "code",
      "source": [
        "model = tf.keras.Sequential()\n",
        "model.add(tf.keras.layers.Flatten(input_shape = x_train[0].shape))#input layer 784 neurons\n",
        "model.add(tf.keras.layers.Dense(532,activation = 'relu')) #hidden layer ((2/3) * 784+10))=532\n",
        "model.add(tf.keras.layers.Dense(10,activation='softmax')) #output layer 10 neurons"
      ],
      "metadata": {
        "id": "Il2ieOV9C5I3"
      },
      "execution_count": 16,
      "outputs": []
    },
    {
      "cell_type": "code",
      "source": [
        "model.summary()"
      ],
      "metadata": {
        "colab": {
          "base_uri": "https://localhost:8080/"
        },
        "id": "8jhJTrghFBuG",
        "outputId": "8c8dd8ab-0bcc-4d23-b006-c4e1d78fcf51"
      },
      "execution_count": 17,
      "outputs": [
        {
          "output_type": "stream",
          "name": "stdout",
          "text": [
            "Model: \"sequential\"\n",
            "_________________________________________________________________\n",
            " Layer (type)                Output Shape              Param #   \n",
            "=================================================================\n",
            " flatten (Flatten)           (None, 784)               0         \n",
            "                                                                 \n",
            " dense (Dense)               (None, 532)               417620    \n",
            "                                                                 \n",
            " dense_1 (Dense)             (None, 10)                5330      \n",
            "                                                                 \n",
            "=================================================================\n",
            "Total params: 422,950\n",
            "Trainable params: 422,950\n",
            "Non-trainable params: 0\n",
            "_________________________________________________________________\n"
          ]
        }
      ]
    },
    {
      "cell_type": "code",
      "source": [
        "model.compile(optimizer='adam',loss='sparse_categorical_crossentropy',metrics='accuracy')"
      ],
      "metadata": {
        "id": "J9FfYoP0Gp-i"
      },
      "execution_count": 18,
      "outputs": []
    },
    {
      "cell_type": "code",
      "source": [
        "model.fit(x_train,y_train,epochs=15)"
      ],
      "metadata": {
        "colab": {
          "base_uri": "https://localhost:8080/"
        },
        "id": "B62tPzjCU6-0",
        "outputId": "f0e8ffba-03b6-470f-c109-3e1a5ed236ff"
      },
      "execution_count": 19,
      "outputs": [
        {
          "output_type": "stream",
          "name": "stdout",
          "text": [
            "Epoch 1/15\n",
            "1875/1875 [==============================] - 11s 3ms/step - loss: 0.1963 - accuracy: 0.9425\n",
            "Epoch 2/15\n",
            "1875/1875 [==============================] - 5s 3ms/step - loss: 0.0805 - accuracy: 0.9752\n",
            "Epoch 3/15\n",
            "1875/1875 [==============================] - 7s 4ms/step - loss: 0.0517 - accuracy: 0.9841\n",
            "Epoch 4/15\n",
            "1875/1875 [==============================] - 5s 3ms/step - loss: 0.0355 - accuracy: 0.9886\n",
            "Epoch 5/15\n",
            "1875/1875 [==============================] - 6s 3ms/step - loss: 0.0282 - accuracy: 0.9909\n",
            "Epoch 6/15\n",
            "1875/1875 [==============================] - 5s 3ms/step - loss: 0.0221 - accuracy: 0.9929\n",
            "Epoch 7/15\n",
            "1875/1875 [==============================] - 6s 3ms/step - loss: 0.0168 - accuracy: 0.9944\n",
            "Epoch 8/15\n",
            "1875/1875 [==============================] - 5s 3ms/step - loss: 0.0128 - accuracy: 0.9956\n",
            "Epoch 9/15\n",
            "1875/1875 [==============================] - 5s 3ms/step - loss: 0.0140 - accuracy: 0.9954\n",
            "Epoch 10/15\n",
            "1875/1875 [==============================] - 6s 3ms/step - loss: 0.0109 - accuracy: 0.9963\n",
            "Epoch 11/15\n",
            "1875/1875 [==============================] - 5s 3ms/step - loss: 0.0104 - accuracy: 0.9967\n",
            "Epoch 12/15\n",
            "1875/1875 [==============================] - 6s 3ms/step - loss: 0.0083 - accuracy: 0.9971\n",
            "Epoch 13/15\n",
            "1875/1875 [==============================] - 5s 3ms/step - loss: 0.0099 - accuracy: 0.9965\n",
            "Epoch 14/15\n",
            "1875/1875 [==============================] - 6s 3ms/step - loss: 0.0079 - accuracy: 0.9974\n",
            "Epoch 15/15\n",
            "1875/1875 [==============================] - 5s 3ms/step - loss: 0.0075 - accuracy: 0.9974\n"
          ]
        },
        {
          "output_type": "execute_result",
          "data": {
            "text/plain": [
              "<keras.callbacks.History at 0x7e0a8a522a40>"
            ]
          },
          "metadata": {},
          "execution_count": 19
        }
      ]
    },
    {
      "cell_type": "code",
      "source": [
        "import pandas as pd\n",
        "loss = pd.DataFrame(model.history.history['loss']).plot(c='r')"
      ],
      "metadata": {
        "colab": {
          "base_uri": "https://localhost:8080/",
          "height": 430
        },
        "id": "D2-G2PJAKyfI",
        "outputId": "b7cd6c00-e69c-4004-8bb0-9e8c984c5c43"
      },
      "execution_count": 20,
      "outputs": [
        {
          "output_type": "display_data",
          "data": {
            "text/plain": [
              "<Figure size 640x480 with 1 Axes>"
            ],
            "image/png": "[encoded data removed]"
          },
          "metadata": {}
        }
      ]
    },
    {
      "cell_type": "code",
      "source": [
        "gain = pd.DataFrame(model.history.history['accuracy']).plot(c='g')"
      ],
      "metadata": {
        "colab": {
          "base_uri": "https://localhost:8080/",
          "height": 434
        },
        "id": "JGRJJB9rNG5D",
        "outputId": "91acabf6-53d6-4f4f-c318-4b92b145dfb8"
      },
      "execution_count": 21,
      "outputs": [
        {
          "output_type": "display_data",
          "data": {
            "text/plain": [
              "<Figure size 640x480 with 1 Axes>"
            ],
            "image/png": "[encoded data removed]"
          },
          "metadata": {}
        }
      ]
    },
    {
      "cell_type": "code",
      "source": [
        "import numpy as np\n",
        "y_pred=model.predict(x_test)\n",
        "y_pred=np.argmax(y_pred,axis=1)\n",
        "y_pred"
      ],
      "metadata": {
        "colab": {
          "base_uri": "https://localhost:8080/"
        },
        "id": "CQDZVkjXPqu2",
        "outputId": "5c09074b-34b7-4fc9-815f-fe85075d4dff"
      },
      "execution_count": 22,
      "outputs": [
        {
          "output_type": "stream",
          "name": "stdout",
          "text": [
            "313/313 [==============================] - 1s 2ms/step\n"
          ]
        },
        {
          "output_type": "execute_result",
          "data": {
            "text/plain": [
              "array([7, 2, 1, ..., 4, 5, 6])"
            ]
          },
          "metadata": {},
          "execution_count": 22
        }
      ]
    },
    {
      "cell_type": "code",
      "source": [
        "y_test"
      ],
      "metadata": {
        "colab": {
          "base_uri": "https://localhost:8080/"
        },
        "id": "GH4BX-kJQWPi",
        "outputId": "0b8c11ed-cf26-47be-b84e-796f90146579"
      },
      "execution_count": 23,
      "outputs": [
        {
          "output_type": "execute_result",
          "data": {
            "text/plain": [
              "array([7, 2, 1, ..., 4, 5, 6], dtype=uint8)"
            ]
          },
          "metadata": {},
          "execution_count": 23
        }
      ]
    },
    {
      "cell_type": "code",
      "source": [
        "from sklearn.metrics import accuracy_score\n",
        "accuracy_score(y_test,y_pred)"
      ],
      "metadata": {
        "colab": {
          "base_uri": "https://localhost:8080/"
        },
        "id": "FE4CaVwuQgj4",
        "outputId": "49595577-0c3a-43a8-a979-36f2551b6896"
      },
      "execution_count": 24,
      "outputs": [
        {
          "output_type": "execute_result",
          "data": {
            "text/plain": [
              "0.9814"
            ]
          },
          "metadata": {},
          "execution_count": 24
        }
      ]
    },
    {
      "cell_type": "code",
      "source": [
        "model.get_weights()"
      ],
      "metadata": {
        "colab": {
          "base_uri": "https://localhost:8080/"
        },
        "id": "LcMvdnG7QwSB",
        "outputId": "050c3a5a-1dea-4daa-bcdb-904a51063429"
      },
      "execution_count": 25,
      "outputs": [
        {
          "output_type": "execute_result",
          "data": {
            "text/plain": [
              "[array([[ 0.03657776,  0.03058542, -0.0605544 , ...,  0.00522304,\n",
              "          0.0263308 ,  0.01300786],\n",
              "        [-0.04801961, -0.05710269,  0.02253161, ...,  0.06241169,\n",
              "         -0.01517577, -0.03026518],\n",
              "        [-0.04083338, -0.03036049, -0.05297896, ...,  0.03728969,\n",
              "          0.02633408,  0.01321417],\n",
              "        ...,\n",
              "        [-0.02777939,  0.04357981, -0.00562482, ..., -0.03348651,\n",
              "          0.02843236,  0.04250486],\n",
              "        [ 0.05407527,  0.0600128 , -0.03116416, ...,  0.02342878,\n",
              "          0.01988303, -0.06084117],\n",
              "        [-0.01769037, -0.01902906, -0.02066273, ...,  0.05512924,\n",
              "          0.0315381 , -0.03959129]], dtype=float32),\n",
              " array([-7.79276714e-02,  1.72338076e-02,  2.74473764e-02, -1.23284884e-01,\n",
              "         3.06029115e-02, -4.17505577e-02, -1.38200477e-01, -9.17973518e-02,\n",
              "        -2.77465791e-01, -8.76726676e-03,  7.89472535e-02,  1.20080508e-01,\n",
              "        -3.69489789e-02, -3.81590873e-02,  9.75253135e-02, -1.31545633e-01,\n",
              "        -4.07247804e-02,  7.57898018e-03,  1.97407138e-02, -1.01693664e-02,\n",
              "        -2.18473673e-01,  1.55641273e-01, -1.21329680e-01, -2.13346392e-01,\n",
              "         1.20305538e-01,  5.62913455e-02, -2.09865019e-01, -1.97251625e-02,\n",
              "        -8.31876397e-02, -7.80831203e-02, -1.20326526e-01, -2.98043974e-02,\n",
              "        -1.83330700e-01, -4.00365852e-02, -9.66274664e-02, -1.35705173e-01,\n",
              "        -1.07795358e-01, -9.31703672e-02, -2.60989577e-01, -1.53453248e-02,\n",
              "         3.63932140e-02, -4.22459468e-02, -6.98455572e-02, -6.62785918e-02,\n",
              "        -3.82001847e-02, -9.52907205e-02,  2.11911034e-02, -1.82301641e-01,\n",
              "        -3.05096861e-02, -1.82182282e-01,  3.74008007e-02, -2.16480009e-02,\n",
              "        -1.15421293e-02,  6.35176823e-02, -6.93302900e-02, -3.00625376e-02,\n",
              "         1.42182335e-01,  1.17164075e-01,  1.09608015e-02, -2.43380472e-01,\n",
              "         3.46491896e-02, -2.42292508e-02,  5.78602441e-02, -1.10953644e-01,\n",
              "         4.96337786e-02, -1.37747258e-01,  7.29009733e-02, -4.71817963e-02,\n",
              "         1.31725688e-02, -3.54512446e-02, -1.30995542e-01,  7.49709681e-02,\n",
              "         5.09291254e-02, -1.01064872e-02,  6.51693344e-03,  1.13898166e-01,\n",
              "        -1.04412846e-02, -3.45406383e-02, -1.31168619e-01,  1.15899935e-01,\n",
              "         1.83672179e-02, -1.03438139e-01,  2.44949311e-02,  7.78220594e-02,\n",
              "        -7.82153234e-02,  1.34921476e-01, -2.01329157e-01, -6.03014864e-02,\n",
              "         4.94514480e-02,  8.53666011e-03,  8.07033479e-02,  7.00525418e-02,\n",
              "        -6.72861561e-02, -7.11133750e-03, -3.44354659e-02,  1.19696505e-01,\n",
              "         1.38797611e-01, -9.58017185e-02,  3.92021425e-02,  3.23427666e-04,\n",
              "         7.63999857e-03, -9.08014625e-02, -5.22468425e-02, -1.50503933e-01,\n",
              "        -5.33953123e-02, -3.03371064e-02, -7.51027018e-02,  4.26657759e-02,\n",
              "         2.91531309e-02,  1.36471659e-01, -9.61537845e-03,  6.09205030e-02,\n",
              "         6.25322536e-02, -3.36375944e-02, -9.38103274e-02,  5.37817702e-02,\n",
              "         1.94557205e-01, -1.65627450e-01,  5.81386611e-02,  8.69180337e-02,\n",
              "        -7.35044433e-03,  5.41721955e-02, -1.14288799e-01, -1.42856622e-02,\n",
              "         1.50450140e-01,  4.15968858e-02,  2.16914430e-01, -8.50330889e-02,\n",
              "        -5.26954792e-02, -7.51284212e-02, -1.55906752e-01,  1.10352553e-01,\n",
              "        -7.86300004e-02,  5.33614084e-02,  5.11295475e-05,  6.46400303e-02,\n",
              "         1.85569853e-01,  1.15603402e-01,  6.49813488e-02,  1.00494429e-01,\n",
              "         1.23636924e-01, -1.69810392e-02,  9.67915282e-02,  7.82677904e-02,\n",
              "         3.04275081e-02, -1.23906564e-02,  3.04594897e-02, -5.55524090e-03,\n",
              "         7.85773769e-02, -1.17543191e-01, -8.35288018e-02, -1.04043566e-01,\n",
              "        -1.20840773e-01, -5.16985096e-02, -1.59481522e-02,  3.79425054e-03,\n",
              "        -4.06560563e-02, -7.89604113e-02, -4.29983363e-02,  8.83132890e-02,\n",
              "         3.71825020e-03,  6.16587400e-02, -1.62905246e-01,  8.57030526e-02,\n",
              "        -7.00433031e-02, -1.64938644e-01, -2.04250529e-01, -2.99435686e-02,\n",
              "         6.57506287e-02,  9.60531831e-02,  6.76057190e-02, -9.75472406e-02,\n",
              "        -1.13248765e-01, -3.34426761e-02,  6.36650026e-02, -3.50167304e-02,\n",
              "         1.65564939e-02, -4.16702069e-02, -8.47150534e-02, -4.40719770e-03,\n",
              "        -2.92439833e-02, -2.39732966e-01, -1.17885567e-01, -2.63795555e-02,\n",
              "         1.40503854e-01, -1.29739456e-02, -5.73412748e-03,  1.01145864e-01,\n",
              "        -7.64211342e-02,  1.32000059e-01, -9.17511657e-02,  1.23875394e-01,\n",
              "        -1.28036246e-01, -7.65619054e-02, -1.20312259e-01, -2.30419829e-01,\n",
              "        -1.09467797e-01, -4.35794666e-02, -8.58300105e-02, -1.78303629e-01,\n",
              "         3.11934147e-02, -8.76968130e-02, -5.05419970e-02, -9.33157206e-02,\n",
              "         1.15870424e-01, -1.23792551e-01, -7.31706768e-02, -9.34791788e-02,\n",
              "        -1.79463416e-01, -1.37322292e-01, -9.81563702e-02,  3.78514379e-02,\n",
              "         5.06806932e-02,  6.69254139e-02,  3.93152088e-02,  1.07401006e-01,\n",
              "        -1.77702144e-01,  1.44229336e-02, -9.13186893e-02,  1.33370236e-02,\n",
              "        -2.03227848e-01,  1.07125431e-01, -4.94813286e-02,  5.18689528e-02,\n",
              "         6.76860381e-03,  5.05402088e-02,  3.81226763e-02, -1.70080110e-01,\n",
              "         7.71614835e-02, -1.30411178e-01, -1.49071530e-01, -2.32264772e-01,\n",
              "        -1.30855218e-01, -1.37002170e-01, -8.64320900e-03, -1.65157113e-02,\n",
              "        -2.01265484e-01,  6.66928589e-02,  2.05666199e-02,  9.26215500e-02,\n",
              "        -5.63364737e-02, -1.14651769e-01, -1.45385757e-01,  1.23776188e-02,\n",
              "        -1.36413455e-01, -1.26674742e-01,  9.95952189e-02, -1.83531061e-01,\n",
              "        -7.30025694e-02, -1.70078445e-02,  6.32128567e-02, -4.78000976e-02,\n",
              "        -1.58277825e-02,  4.47730981e-02, -1.15211159e-01, -4.24654707e-02,\n",
              "         1.00969635e-01, -4.11333628e-02, -2.36073118e-02,  2.42047347e-02,\n",
              "        -3.86369824e-02, -5.30525446e-02,  2.22080290e-01, -2.71705091e-02,\n",
              "         2.08080076e-02,  2.45771259e-01,  1.28991097e-01, -3.38424332e-02,\n",
              "         2.13697217e-02, -4.48768921e-02, -6.28423020e-02,  6.30869791e-02,\n",
              "         1.16877012e-01, -6.33344799e-02, -8.65711793e-02,  1.09565236e-01,\n",
              "        -2.58118454e-02, -4.98621278e-02,  1.65560078e-02, -8.97903442e-02,\n",
              "        -6.53524250e-02,  6.12175539e-02, -7.24326521e-02,  5.08311316e-02,\n",
              "        -1.43447295e-02,  4.69592512e-02,  1.17438518e-01,  3.02225277e-02,\n",
              "         1.32327288e-01,  1.21927373e-01, -1.45875290e-01, -1.17806979e-01,\n",
              "        -9.23568010e-02, -6.75412714e-02, -2.23659575e-02, -7.17140734e-02,\n",
              "         1.22485980e-01,  7.36603811e-02,  1.60549507e-01, -3.93746011e-02,\n",
              "         7.20937327e-02, -1.75114833e-02, -5.11953942e-02, -1.60442367e-02,\n",
              "         2.37601949e-03, -1.89770740e-02,  1.52445799e-02,  5.79479672e-02,\n",
              "         1.28758159e-02, -2.75450535e-02,  1.34517429e-02, -1.70333236e-02,\n",
              "        -1.13042876e-01, -4.57294798e-03, -7.04723597e-02,  9.47904307e-03,\n",
              "         1.48411781e-01, -3.13980132e-02, -1.12583324e-01,  2.16886308e-02,\n",
              "        -1.19543588e-02,  4.61506583e-02, -4.30990942e-02, -5.55761121e-02,\n",
              "         5.86401336e-02,  3.89027819e-02, -1.14453562e-01, -6.69069886e-02,\n",
              "        -1.30125821e-01, -9.29854158e-03,  1.02527484e-01,  1.48175238e-02,\n",
              "        -1.43658509e-02,  6.18589520e-02, -1.70805067e-01, -5.84199950e-02,\n",
              "         4.95847277e-02,  5.74428067e-02, -8.09076428e-02, -7.26935938e-02,\n",
              "        -1.11280248e-01, -4.69260402e-02, -9.94817242e-02,  3.79219949e-02,\n",
              "         1.41235162e-02,  1.72470272e-01, -3.38776484e-02, -1.49260134e-01,\n",
              "         1.60100768e-04, -6.01219498e-02, -7.45328190e-03, -3.35718272e-03,\n",
              "        -2.15302315e-02,  1.12554252e-01, -3.96599211e-02,  6.51739165e-02,\n",
              "         4.28719446e-02,  6.58877566e-02, -1.56782329e-01, -1.38909125e-03,\n",
              "        -2.22162027e-02,  1.91809935e-03, -1.45699725e-01, -2.99302414e-02,\n",
              "        -1.55691355e-01,  2.27804482e-02,  8.86512548e-02, -7.41635785e-02,\n",
              "        -7.28987437e-03,  5.77333979e-02, -2.27382004e-01, -6.94484934e-02,\n",
              "         1.87153727e-01, -9.03993025e-02, -3.28860022e-02,  1.04950862e-02,\n",
              "        -1.32061556e-01, -1.25697449e-01, -9.10071507e-02, -1.60645321e-01,\n",
              "        -1.08968049e-01, -1.07388340e-01, -1.62387788e-01, -6.39499798e-02,\n",
              "        -4.70935889e-02,  3.42546701e-02,  4.73340079e-02, -2.03999318e-02,\n",
              "        -1.09636942e-02, -6.13049716e-02,  2.69448441e-02,  2.80800182e-02,\n",
              "        -3.93381342e-02, -1.13716111e-01, -1.10925026e-02, -1.51395155e-02,\n",
              "        -7.26854056e-02,  8.19233879e-02,  9.88424383e-03,  1.13142900e-01,\n",
              "        -7.25194067e-02,  5.70312552e-02, -1.94598213e-01, -3.68225984e-02,\n",
              "        -1.20901853e-01, -1.28749004e-02,  3.81793687e-03, -5.32620922e-02,\n",
              "        -4.78018299e-02, -1.75073370e-01, -8.13778713e-02, -8.00777525e-02,\n",
              "         1.81282058e-01, -5.13629057e-02,  1.15405992e-01,  1.14902686e-02,\n",
              "         3.72555740e-02,  3.88711840e-02,  1.08978543e-02,  1.16275311e-01,\n",
              "        -1.08278953e-01,  6.82444200e-02, -1.16056971e-01, -3.52477655e-02,\n",
              "         5.68940230e-02,  3.38785313e-02,  2.02790916e-01, -4.78090486e-03,\n",
              "         1.09199174e-01, -1.33604974e-01, -2.33537536e-02, -3.58435065e-02,\n",
              "        -2.04033419e-01,  1.64248087e-02, -1.03434533e-01,  6.19068705e-02,\n",
              "        -9.25747827e-02, -5.99309169e-02, -1.22304216e-01,  1.91767067e-02,\n",
              "         2.24521067e-02, -2.22257495e-01, -1.20353073e-01,  1.52738050e-01,\n",
              "         4.11060117e-02, -3.65874134e-02,  4.47690766e-03, -1.82692949e-02,\n",
              "        -8.62908438e-02,  6.26989603e-02, -1.07473672e-04,  2.97055934e-02,\n",
              "         1.53254448e-02, -2.78038904e-02, -8.18457082e-03, -8.75217319e-02,\n",
              "         1.21850530e-02, -6.31023757e-03, -6.37537315e-02,  3.34920585e-02,\n",
              "        -1.25309393e-01,  3.95270735e-02,  2.02887058e-02,  2.24027894e-02,\n",
              "        -1.93447173e-02,  5.76305669e-04, -4.67669554e-02, -7.93028176e-02,\n",
              "        -1.37427509e-01, -4.52663749e-02,  1.00329772e-01, -4.42826562e-02,\n",
              "        -1.58859208e-01, -2.36779787e-02, -5.31855039e-02,  1.32521614e-01,\n",
              "        -6.37757331e-02,  9.86585468e-02, -1.45890966e-01, -3.47007066e-02,\n",
              "        -1.11669926e-02, -9.45407003e-02, -7.67053142e-02,  1.50027364e-01,\n",
              "         7.23249912e-02, -1.44493431e-02, -1.95218012e-01, -2.24679653e-02,\n",
              "         2.60851309e-02, -5.06054647e-02, -1.80141732e-01, -4.59484160e-02,\n",
              "         1.71450555e-01, -4.68614697e-02, -8.56514648e-03,  3.65699232e-02,\n",
              "        -6.29249215e-03, -4.49798927e-02, -4.30054441e-02, -8.54536071e-02,\n",
              "        -4.00981046e-02,  8.43049064e-02,  6.36874437e-02, -1.54234573e-01,\n",
              "         1.13676131e-01, -1.18506998e-01,  5.85245714e-03,  1.95184648e-02,\n",
              "         6.10787347e-02,  1.33421317e-01,  1.28125817e-01,  8.49222988e-02,\n",
              "         1.32201742e-02, -4.63690460e-02,  1.76653378e-02, -7.10165128e-02,\n",
              "         2.59083556e-03,  1.64488703e-01,  7.65183568e-03,  8.00650418e-02,\n",
              "         1.08407550e-02,  4.51320447e-02, -1.27544656e-01, -1.12160062e-02,\n",
              "        -2.15313509e-01,  1.55757228e-02, -1.09262273e-01, -3.51715498e-02,\n",
              "        -1.14071257e-01, -1.18118465e-01, -2.29023427e-01, -1.64533764e-01],\n",
              "       dtype=float32),\n",
              " array([[-0.57515043, -0.23349027, -0.20320548, ..., -0.07333989,\n",
              "          0.11676854,  0.16035922],\n",
              "        [-0.3067924 , -0.14255276,  0.03766662, ..., -0.15408647,\n",
              "          0.1300525 , -0.00124265],\n",
              "        [ 0.07370099, -0.3835618 ,  0.15006997, ..., -0.270408  ,\n",
              "         -0.14299574,  0.17038047],\n",
              "        ...,\n",
              "        [-0.051116  ,  0.1490518 , -0.12434516, ..., -0.00704726,\n",
              "          0.07196739, -0.21420364],\n",
              "        [-0.2665722 ,  0.03536815,  0.00616922, ...,  0.22105454,\n",
              "         -0.09789408, -0.54070365],\n",
              "        [-0.12612711, -0.0742703 , -0.07759977, ...,  0.13832378,\n",
              "         -0.11800025,  0.07201916]], dtype=float32),\n",
              " array([-0.0144219 , -0.21564731, -0.07548121, -0.07061893,  0.04302688,\n",
              "        -0.02591051, -0.07375686, -0.16766913,  0.4707351 , -0.00971705],\n",
              "       dtype=float32)]"
            ]
          },
          "metadata": {},
          "execution_count": 25
        }
      ]
    },
    {
      "cell_type": "code",
      "source": [
        "model.save('handwritten.hdf5')"
      ],
      "metadata": {
        "id": "LwM7nWaqVR9V"
      },
      "execution_count": 26,
      "outputs": []
    },
    {
      "cell_type": "code",
      "source": [
        "plt.imshow(x_test[64],cmap = 'gray')\n",
        "plt.show()\n"
      ],
      "metadata": {
        "colab": {
          "base_uri": "https://localhost:8080/",
          "height": 430
        },
        "outputId": "8a443561-f6d8-4436-e82f-9fc80ca9ab41",
        "id": "QN5pkdnZBjML"
      },
      "execution_count": 58,
      "outputs": [
        {
          "output_type": "display_data",
          "data": {
            "text/plain": [
              "<Figure size 640x480 with 1 Axes>"
            ],
            "image/png": "[encoded data removed]"
          },
          "metadata": {}
        }
      ]
    },
    {
      "cell_type": "code",
      "source": [
        "y_pred[64]"
      ],
      "metadata": {
        "colab": {
          "base_uri": "https://localhost:8080/"
        },
        "id": "N1FirbfzQ_2Y",
        "outputId": "5163272c-eff8-4b1e-cfcd-9cbe713482fc"
      },
      "execution_count": 51,
      "outputs": [
        {
          "output_type": "execute_result",
          "data": {
            "text/plain": [
              "7"
            ]
          },
          "metadata": {},
          "execution_count": 51
        }
      ]
    },
    {
      "cell_type": "code",
      "source": [
        "plt.imshow(x_test[42],cmap = 'gray')\n",
        "plt.show()\n"
      ],
      "metadata": {
        "colab": {
          "base_uri": "https://localhost:8080/",
          "height": 430
        },
        "outputId": "9e989b10-1603-48b9-ca8f-04346dc91206",
        "id": "JiV1sH7IBuO_"
      },
      "execution_count": 57,
      "outputs": [
        {
          "output_type": "display_data",
          "data": {
            "text/plain": [
              "<Figure size 640x480 with 1 Axes>"
            ],
            "image/png": "[encoded data removed]"
          },
          "metadata": {}
        }
      ]
    },
    {
      "cell_type": "code",
      "source": [
        "y_pred[42]"
      ],
      "metadata": {
        "colab": {
          "base_uri": "https://localhost:8080/"
        },
        "id": "qejPlizoBzlM",
        "outputId": "b72e7108-75de-4afa-cbfb-b7c7251dfa4c"
      },
      "execution_count": 54,
      "outputs": [
        {
          "output_type": "execute_result",
          "data": {
            "text/plain": [
              "4"
            ]
          },
          "metadata": {},
          "execution_count": 54
        }
      ]
    },
    {
      "cell_type": "code",
      "source": [
        "plt.imshow(x_test[38],cmap = 'gray')\n",
        "plt.show()\n"
      ],
      "metadata": {
        "colab": {
          "base_uri": "https://localhost:8080/",
          "height": 430
        },
        "outputId": "7a002be2-9325-4566-86cb-7afea3a34faf",
        "id": "qLGbo2wJBwbk"
      },
      "execution_count": 56,
      "outputs": [
        {
          "output_type": "display_data",
          "data": {
            "text/plain": [
              "<Figure size 640x480 with 1 Axes>"
            ],
            "image/png": "[encoded data removed]"
          },
          "metadata": {}
        }
      ]
    },
    {
      "cell_type": "code",
      "source": [
        "y_pred[38]"
      ],
      "metadata": {
        "colab": {
          "base_uri": "https://localhost:8080/"
        },
        "id": "hfENwavMB6Cv",
        "outputId": "cf03e277-d416-40e3-d73c-13a36875ec1f"
      },
      "execution_count": 55,
      "outputs": [
        {
          "output_type": "execute_result",
          "data": {
            "text/plain": [
              "2"
            ]
          },
          "metadata": {},
          "execution_count": 55
        }
      ]
    },
    {
      "cell_type": "code",
      "source": [
        "plt.imshow(x_test[65],cmap = 'gray')\n",
        "plt.show()"
      ],
      "metadata": {
        "colab": {
          "base_uri": "https://localhost:8080/",
          "height": 430
        },
        "id": "TsMAeC99CCUt",
        "outputId": "a7ef28af-dc81-4284-b333-0d4465dfba76"
      },
      "execution_count": 60,
      "outputs": [
        {
          "output_type": "display_data",
          "data": {
            "text/plain": [
              "<Figure size 640x480 with 1 Axes>"
            ],
            "image/png": "[encoded data removed]"
          },
          "metadata": {}
        }
      ]
    },
    {
      "cell_type": "code",
      "source": [
        "y_pred[65]"
      ],
      "metadata": {
        "colab": {
          "base_uri": "https://localhost:8080/"
        },
        "id": "-Caxid3WCZQJ",
        "outputId": "ef959936-d0ce-419a-be4a-9745b2b75700"
      },
      "execution_count": 62,
      "outputs": [
        {
          "output_type": "execute_result",
          "data": {
            "text/plain": [
              "4"
            ]
          },
          "metadata": {},
          "execution_count": 62
        }
      ]
    },
    {
      "cell_type": "code",
      "source": [
        "plt.imshow(x_test[22],cmap = 'gray')\n",
        "plt.show()"
      ],
      "metadata": {
        "colab": {
          "base_uri": "https://localhost:8080/",
          "height": 430
        },
        "id": "shZqWw35CUC6",
        "outputId": "07119a96-b8d0-4e25-e5f9-bb341435e43f"
      },
      "execution_count": 61,
      "outputs": [
        {
          "output_type": "display_data",
          "data": {
            "text/plain": [
              "<Figure size 640x480 with 1 Axes>"
            ],
            "image/png": "[encoded data removed]"
          },
          "metadata": {}
        }
      ]
    },
    {
      "cell_type": "code",
      "source": [
        "y_pred[22]"
      ],
      "metadata": {
        "colab": {
          "base_uri": "https://localhost:8080/"
        },
        "id": "E7kg7OdfCczb",
        "outputId": "7f1d0833-83ac-4acf-9b5f-2164642a9645"
      },
      "execution_count": 63,
      "outputs": [
        {
          "output_type": "execute_result",
          "data": {
            "text/plain": [
              "6"
            ]
          },
          "metadata": {},
          "execution_count": 63
        }
      ]
    }
  ]
}