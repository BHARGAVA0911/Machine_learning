{
  "nbformat": 4,
  "nbformat_minor": 0,
  "metadata": {
    "colab": {
      "provenance": []
    },
    "kernelspec": {
      "name": "python3",
      "display_name": "Python 3"
    },
    "language_info": {
      "name": "python"
    }
  },
  "cells": [
    {
      "cell_type": "code",
      "source": [
        "from google.colab import drive\n",
        "drive.mount('/content/drive')"
      ],
      "metadata": {
        "colab": {
          "base_uri": "https://localhost:8080/"
        },
        "id": "lR3YZHIMEeKu",
        "outputId": "31233fd6-577f-4cee-9cf8-32a8764f0b3e"
      },
      "execution_count": 1,
      "outputs": [
        {
          "output_type": "stream",
          "name": "stdout",
          "text": [
            "Mounted at /content/drive\n"
          ]
        }
      ]
    },
    {
      "cell_type": "code",
      "execution_count": 9,
      "metadata": {
        "colab": {
          "base_uri": "https://localhost:8080/"
        },
        "id": "EHpU_HzvEXC1",
        "outputId": "15d26f98-49d1-41a9-e8f9-4c7dcc0ee036"
      },
      "outputs": [
        {
          "output_type": "stream",
          "name": "stdout",
          "text": [
            "Accuracy with PCA-projected data: 0.7951219512195122\n",
            "Accuracy with original data: 0.9658536585365853\n"
          ]
        }
      ],
      "source": [
        "#1\n",
        "import pandas as pd\n",
        "from sklearn.model_selection import train_test_split\n",
        "from sklearn.preprocessing import StandardScaler\n",
        "from sklearn.decomposition import PCA\n",
        "from sklearn.svm import SVC\n",
        "from sklearn.metrics import accuracy_score\n",
        "\n",
        "data = pd.read_csv('/content/drive/MyDrive/Machine Learning data sets/heart.csv')\n",
        "X = data.drop('target', axis=1)\n",
        "y = data['target']\n",
        "\n",
        "scaler = StandardScaler()\n",
        "X_scaled = scaler.fit_transform(X)\n",
        "\n",
        "pca = PCA(n_components=3)\n",
        "X_pca = pca.fit_transform(X_scaled)\n",
        "\n",
        "X_train, X_test, y_train, y_test = train_test_split(X_pca, y, test_size=0.2, random_state=42)\n",
        "\n",
        "svm_pca = SVC()\n",
        "svm_pca.fit(X_train, y_train)\n",
        "y_pred_pca = svm_pca.predict(X_test)\n",
        "accuracy_pca = accuracy_score(y_test, y_pred_pca)\n",
        "\n",
        "svm_original = SVC()\n",
        "svm_original.fit(X_scaled, y)\n",
        "y_pred_original = svm_original.predict(X_scaled)\n",
        "accuracy_original = accuracy_score(y, y_pred_original)\n",
        "\n",
        "print(\"Accuracy with PCA-projected data:\", accuracy_pca)\n",
        "print(\"Accuracy with original data:\", accuracy_original)\n",
        "\n"
      ]
    },
    {
      "cell_type": "code",
      "source": [
        "#2\n",
        "df = pd.read_csv('/content/drive/MyDrive/Machine Learning data sets/shop.csv')\n",
        "\n",
        "features = ['Age', 'Annual Income (k$)', 'Spending Score (1-100)']\n",
        "\n",
        "scaler = StandardScaler()\n",
        "df_scaled = scaler.fit_transform(df[features])\n",
        "df_scaled = pd.DataFrame(df_scaled, columns=features)\n",
        "\n",
        "pca = PCA(n_components=2)\n",
        "principal_components = pca.fit_transform(df_scaled)\n",
        "df_pca = pd.DataFrame(principal_components, columns=['PC1', 'PC2'])\n",
        "\n",
        "from sklearn.cluster import AgglomerativeClustering\n",
        "\n",
        "n_clusters = 3\n",
        "clustering = AgglomerativeClustering(n_clusters=n_clusters)\n",
        "df_pca['cluster'] = clustering.fit_predict(df_pca)\n",
        "\n",
        "from sklearn.metrics import adjusted_rand_score\n",
        "\n",
        "original_labels = df['cluster']\n",
        "hierarchical_labels = df_pca['cluster']\n",
        "rand_index = adjusted_rand_score(original_labels, hierarchical_labels)\n",
        "print(\"Rand Index after PCA:\", rand_index)\n"
      ],
      "metadata": {
        "colab": {
          "base_uri": "https://localhost:8080/"
        },
        "id": "ARJKPTAWbDMW",
        "outputId": "98c1feb7-fd3a-4782-961c-72b6efe120c1"
      },
      "execution_count": 10,
      "outputs": [
        {
          "output_type": "stream",
          "name": "stdout",
          "text": [
            "Rand Index after PCA: 0.3030904858993054\n"
          ]
        }
      ]
    }
  ]
}