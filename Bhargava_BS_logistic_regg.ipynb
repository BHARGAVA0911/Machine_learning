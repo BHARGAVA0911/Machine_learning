{
  "nbformat": 4,
  "nbformat_minor": 0,
  "metadata": {
    "colab": {
      "provenance": []
    },
    "kernelspec": {
      "name": "python3",
      "display_name": "Python 3"
    },
    "language_info": {
      "name": "python"
    }
  },
  "cells": [
    {
      "cell_type": "code",
      "source": [
        "from google.colab import drive\n",
        "drive.mount('/content/drive')"
      ],
      "metadata": {
        "colab": {
          "base_uri": "https://localhost:8080/"
        },
        "id": "gTl7EpEiikas",
        "outputId": "fb04f172-9edd-4e2a-94be-7e96c17ac3b0"
      },
      "execution_count": 2,
      "outputs": [
        {
          "output_type": "stream",
          "name": "stdout",
          "text": [
            "Mounted at /content/drive\n"
          ]
        }
      ]
    },
    {
      "cell_type": "code",
      "execution_count": 1,
      "metadata": {
        "colab": {
          "base_uri": "https://localhost:8080/"
        },
        "id": "1tKFn_BehCWv",
        "outputId": "ffd74667-88a6-4740-b76e-01d2e973577d"
      },
      "outputs": [
        {
          "output_type": "stream",
          "name": "stdout",
          "text": [
            "Parameter values: [ 0.14040529  0.14040529  0.69514691  1.54409947  0.72160611 -3.2444098\n",
            "  3.32927915]\n",
            "Predictions: [1. 1. 0. 0. 1. 1.]\n",
            "Accuracy: 0.8333333333333334\n"
          ]
        }
      ],
      "source": [
        "import numpy as np\n",
        "import pandas as pd\n",
        "import matplotlib.pyplot as plt\n",
        "\n",
        "train_data=pd.read_csv('/content/drive/MyDrive/Machine Learning data sets/email.csv')\n",
        "x_train=train_data.iloc[:,:6].values\n",
        "y_train=train_data.iloc[:,[6]].values\n",
        "\n",
        "x_train = np.c_[np.ones(x_train.shape[0]), x_train]\n",
        "\n",
        "def sigmoid(z):\n",
        "    return 1 / (1 + np.exp(-z))\n",
        "\n",
        "num_features = x_train.shape[1]\n",
        "theta = np.zeros(num_features)\n",
        "\n",
        "def cost_function(X, y, theta):\n",
        "    h = sigmoid(np.dot(X, theta))\n",
        "    m = X.shape[0]\n",
        "    epsilon = 1e-5  \n",
        "    cost = (-1 / m) * np.sum(y * np.log(h + epsilon) + (1 - y) * np.log(1 - h + epsilon))\n",
        "    return cost\n",
        "\n",
        "def gradient_descent(X, y, theta, learning_rate, num_iterations):\n",
        "    m = X.shape[0]\n",
        "    costs = []\n",
        "    \n",
        "    for i in range(num_iterations):\n",
        "        h = sigmoid(np.dot(X, theta))\n",
        "        gradient = (1 / m) * np.dot(X.T, (h - y))\n",
        "        theta -= learning_rate * gradient\n",
        "        \n",
        "        cost = cost_function(X, y, theta)\n",
        "        costs.append(cost)\n",
        "    \n",
        "    return theta, costs\n",
        "\n",
        "learning_rate = 0.1\n",
        "num_iterations = 1000\n",
        "theta, costs = gradient_descent(x_train, y_train, theta, learning_rate, num_iterations)\n",
        "\n",
        "print(\"Parameter values:\", theta)\n",
        "\n",
        "X_test = np.array([[1,0, 1, 0, 0, 0],\n",
        "                   [1,1, 1, 1, 0, 1],\n",
        "                   [1,0, 1, 1, 0, 0],\n",
        "                   [1,1, 0, 1, 0, 0],\n",
        "                   [1,0, 1, 0, 0, 1],\n",
        "                   [1,0, 0, 0, 1, 1],\n",
        "                   [1,0, 1, 0, 1, 1],\n",
        "                   [1,0, 0, 0, 0, 1]])\n",
        "\n",
        "x_test = np.c_[np.ones(x_test.shape[0]), x_test]\n",
        "\n",
        "predictions = np.round(sigmoid(np.dot(x_test, theta)))\n",
        "print(\"Predictions:\", predictions)\n",
        "\n",
        "y_test = np.array([1, 1, 0, 0, 1, 0])\n",
        "\n",
        "accuracy = np.mean(predictions == y_test)\n",
        "print(\"Accuracy:\", accuracy)"
      ]
    },
    {
      "cell_type": "code",
      "source": [
        "import numpy as np\n",
        "import pandas as pd\n",
        "import matplotlib.pyplot as mtp\n",
        "from sklearn.preprocessing import StandardScaler\n",
        "from sklearn.linear_model import LogisticRegression\n",
        "\n",
        "\n",
        "train_data=pd.read_csv('/content/drive/MyDrive/Machine Learning data sets/email.csv')\n",
        "x_train=train_data.iloc[:,:6].values\n",
        "y_train=train_data.iloc[:,[6]].values\n",
        "\n",
        "x_test = np.array([\n",
        "    [1, 0, 1, 0, 0, 1],\n",
        "    [1, 1, 0, 1, 0, 1],\n",
        "    [1, 1, 1, 0, 1, 0],\n",
        "    [1, 0, 0, 1, 1, 0],\n",
        "    [1, 1, 0, 1, 0, 0],\n",
        "    [1, 0, 1, 0, 0, 0]\n",
        "])\n",
        "\n",
        "st_x= StandardScaler()    \n",
        "x_train= st_x.fit_transform(x_train)    \n",
        "x_test= st_x.transform(x_test) \n",
        "\n",
        "classifier= LogisticRegression(random_state=0)  \n",
        "classifier.fit(x_train, y_train)  \n",
        "\n",
        "y_pred= classifier.predict(x_test)  \n",
        "print(y_pred)\n",
        "\n",
        "y_test = np.array([1, 1, 0, 0, 1, 0])\n",
        "\n",
        "accuracy = np.mean(predictions == y_test)\n",
        "print(\"Accuracy:\", accuracy)"
      ],
      "metadata": {
        "colab": {
          "base_uri": "https://localhost:8080/"
        },
        "id": "65GY1qv1h89G",
        "outputId": "463cd6fb-c24e-4320-dd6e-d4912b3261f3"
      },
      "execution_count": 37,
      "outputs": [
        {
          "output_type": "stream",
          "name": "stdout",
          "text": [
            "[1 1 0 0 0 1]\n",
            "Accuracy: 0.8333333333333334\n"
          ]
        },
        {
          "output_type": "stream",
          "name": "stderr",
          "text": [
            "/usr/local/lib/python3.10/dist-packages/sklearn/utils/validation.py:1143: DataConversionWarning: A column-vector y was passed when a 1d array was expected. Please change the shape of y to (n_samples, ), for example using ravel().\n",
            "  y = column_or_1d(y, warn=True)\n"
          ]
        }
      ]
    },
    {
      "cell_type": "code",
      "source": [
        "import numpy as np\n",
        "import pandas as pd\n",
        "import matplotlib.pyplot as plt\n",
        "from sklearn.preprocessing import StandardScaler\n",
        "from sklearn.linear_model import LogisticRegression\n",
        "from sklearn.model_selection import train_test_split  \n",
        "\n",
        "data=pd.read_csv('/content/drive/MyDrive/Machine Learning data sets/heart.csv')\n",
        "x=data.iloc[:,:13].values\n",
        "y=data.iloc[:,[13]].values\n",
        "\n",
        "x_train, x_test, y_train, y_test= train_test_split(x, y, test_size= 0.2, random_state=0)  \n",
        "\n",
        "st_x= StandardScaler()    \n",
        "x_train= st_x.fit_transform(x_train)    \n",
        "x_test= st_x.transform(x_test) \n",
        "\n",
        "classifier= LogisticRegression(random_state=0)  \n",
        "classifier.fit(x_train, y_train)  \n",
        "\n",
        "y_pred= classifier.predict(x_test)  \n",
        "print(y_pred)\n",
        "\n"
      ],
      "metadata": {
        "colab": {
          "base_uri": "https://localhost:8080/"
        },
        "id": "8xe0RbOoo57I",
        "outputId": "21d8a54d-7b11-4e31-e381-cf50216f0f85"
      },
      "execution_count": 38,
      "outputs": [
        {
          "output_type": "stream",
          "name": "stdout",
          "text": [
            "[1 1 0 1 0 0 0 0 0 1 0 0 1 1 1 1 1 0 1 0 1 1 1 1 1 1 1 1 1 1 1 0 0 1 0 0 1\n",
            " 0 1 1 1 1 1 1 1 1 1 1 0 1 0 0 1 1 0 0 0 1 0 1 0 1 1 1 0 0 0 1 1 1 1 1 1 0\n",
            " 0 0 1 0 0 0 0 0 1 1 1 0 1 0 1 0 0 0 1 0 1 0 1 0 1 1 1 1 1 0 0 1 0 1 0 1 1\n",
            " 1 0 0 1 0 1 0 0 1 1 1 1 0 1 1 1 1 1 0 0 0 1 1 1 0 0 1 0 1 0 0 0 0 1 1 1 0\n",
            " 1 0 1 1 1 0 0 0 1 1 0 0 0 1 1 0 1 1 1 1 1 1 1 1 1 1 1 1 0 1 1 0 0 0 0 0 1\n",
            " 0 1 0 1 0 0 1 1 1 0 1 1 1 1 0 1 1 1 0 1]\n",
            "Accuracy: 0.5073170731707317\n"
          ]
        },
        {
          "output_type": "stream",
          "name": "stderr",
          "text": [
            "/usr/local/lib/python3.10/dist-packages/sklearn/utils/validation.py:1143: DataConversionWarning: A column-vector y was passed when a 1d array was expected. Please change the shape of y to (n_samples, ), for example using ravel().\n",
            "  y = column_or_1d(y, warn=True)\n"
          ]
        }
      ]
    }
  ]
}