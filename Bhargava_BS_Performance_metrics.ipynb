{
  "nbformat": 4,
  "nbformat_minor": 0,
  "metadata": {
    "colab": {
      "provenance": []
    },
    "kernelspec": {
      "name": "python3",
      "display_name": "Python 3"
    },
    "language_info": {
      "name": "python"
    }
  },
  "cells": [
    {
      "cell_type": "code",
      "source": [
        "from google.colab import drive\n",
        "drive.mount('/content/drive')"
      ],
      "metadata": {
        "colab": {
          "base_uri": "https://localhost:8080/"
        },
        "id": "llyh85X84bvl",
        "outputId": "5d56ec5d-5cce-4632-d024-69850ae39e8f"
      },
      "execution_count": 1,
      "outputs": [
        {
          "output_type": "stream",
          "name": "stdout",
          "text": [
            "Mounted at /content/drive\n"
          ]
        }
      ]
    },
    {
      "cell_type": "code",
      "execution_count": 2,
      "metadata": {
        "id": "_sXCCMpPfmp4"
      },
      "outputs": [],
      "source": [
        "import pandas as pd\n",
        "from sklearn.model_selection import train_test_split\n",
        "from sklearn.preprocessing import StandardScaler, LabelEncoder\n",
        "from sklearn.metrics import confusion_matrix, accuracy_score, precision_score, recall_score\n",
        "\n",
        "heart_data = pd.read_csv('/content/drive/MyDrive/Machine Learning data sets/heart.csv')\n",
        "music_data = pd.read_csv('/content/drive/MyDrive/Machine Learning data sets/music.csv')\n",
        "\n",
        "heart_data.drop_duplicates(inplace=True)\n",
        "music_data.drop_duplicates(inplace=True)\n",
        "\n",
        "X = heart_data.iloc[:, :-1]\n",
        "y = heart_data.iloc[:, -1]\n",
        "p = music_data.iloc[:, 1:-1]\n",
        "q = music_data.iloc[:,0]\n",
        "\n",
        "scaler = StandardScaler()\n",
        "X = scaler.fit_transform(X)\n",
        "p = scaler.fit_transform(p)\n",
        "\n",
        "le = LabelEncoder()\n",
        "y = le.fit_transform(y)\n",
        "q = le.fit_transform(q)\n",
        "\n",
        "X_train, X_test, y_train, y_test = train_test_split(X, y, test_size=0.2, random_state=42)\n",
        "p_train, p_test, q_train, q_test = train_test_split(p, q, test_size=0.2, random_state=42)\n"
      ]
    },
    {
      "cell_type": "code",
      "source": [
        "from sklearn.naive_bayes import GaussianNB\n",
        "\n",
        "nb_classifier = GaussianNB()\n",
        "nb_classifier.fit(X_train, y_train)\n",
        "\n",
        "nb_y_pred = nb_classifier.predict(X_test)\n",
        "\n",
        "print(\"Naive Bayes Results:\\n\")\n",
        "print(\"Heart disease data set\\n\")\n",
        "print(\"confusion_matrix:\")\n",
        "print(confusion_matrix(y_test, nb_y_pred))\n",
        "print(\"Accuracy:\", accuracy_score(y_test, nb_y_pred))\n",
        "print(\"Precision:\", precision_score(y_test, nb_y_pred))\n",
        "print(\"Recall:\", recall_score(y_test, nb_y_pred))\n"
      ],
      "metadata": {
        "colab": {
          "base_uri": "https://localhost:8080/"
        },
        "id": "a2G9fSjXfzHP",
        "outputId": "e4bec227-6bc9-4a26-894d-831da8fb4b18"
      },
      "execution_count": 3,
      "outputs": [
        {
          "output_type": "stream",
          "name": "stdout",
          "text": [
            "Naive Bayes Results:\n",
            "\n",
            "Heart disease data set\n",
            "\n",
            "confusion_matrix:\n",
            "[[27  5]\n",
            " [ 4 25]]\n",
            "Accuracy: 0.8524590163934426\n",
            "Precision: 0.8333333333333334\n",
            "Recall: 0.8620689655172413\n"
          ]
        }
      ]
    },
    {
      "cell_type": "code",
      "source": [
        "nb_classifier.fit(p_train, q_train)\n",
        "nb_q_pred = nb_classifier.predict(p_test)\n",
        "\n",
        "print(\"Naive Bayes Results:\\n\")\n",
        "print(\"Music data set\\n\")\n",
        "print(\"confusion_matrix:\")\n",
        "print(confusion_matrix(q_test, nb_q_pred))\n",
        "print(\"Accuracy:\", accuracy_score(q_test, nb_q_pred))\n",
        "print(\"Precision:\", precision_score(q_test, nb_q_pred,average='micro'))\n",
        "print(\"Recall:\", recall_score(q_test, nb_q_pred,average='micro'))"
      ],
      "metadata": {
        "colab": {
          "base_uri": "https://localhost:8080/"
        },
        "id": "vXyo5rtX0YrV",
        "outputId": "8ee50d7b-8c93-4f71-fc09-5de2367a2a6a"
      },
      "execution_count": 4,
      "outputs": [
        {
          "output_type": "stream",
          "name": "stdout",
          "text": [
            "Naive Bayes Results:\n",
            "\n",
            "Music data set\n",
            "\n",
            "confusion_matrix:\n",
            "[[16  2  0  0]\n",
            " [ 1 18  1  0]\n",
            " [ 0  1 21  6]\n",
            " [ 1  2  3  6]]\n",
            "Accuracy: 0.782051282051282\n",
            "Precision: 0.782051282051282\n",
            "Recall: 0.782051282051282\n"
          ]
        }
      ]
    },
    {
      "cell_type": "code",
      "source": [
        "from sklearn.tree import DecisionTreeClassifier\n",
        "\n",
        "dt_classifier = DecisionTreeClassifier(criterion='entropy', random_state=42)\n",
        "dt_classifier.fit(X_train, y_train)\n",
        "\n",
        "dt_y_pred = dt_classifier.predict(X_test)\n",
        "\n",
        "print(\"Decision Tree Results:\\n\")\n",
        "print(\"Heart disease data set\\n\")\n",
        "print(\"confusion_matrix:\")\n",
        "print(confusion_matrix(y_test, dt_y_pred))\n",
        "print(\"Accuracy:\", accuracy_score(y_test, dt_y_pred))\n",
        "print(\"Precision:\", precision_score(y_test, dt_y_pred))\n",
        "print(\"Recall:\", recall_score(y_test, dt_y_pred))"
      ],
      "metadata": {
        "colab": {
          "base_uri": "https://localhost:8080/"
        },
        "id": "1vz-P_f9gPi6",
        "outputId": "f4b32f6f-d2b7-4e78-de9e-c45beec6d2fd"
      },
      "execution_count": 5,
      "outputs": [
        {
          "output_type": "stream",
          "name": "stdout",
          "text": [
            "Decision Tree Results:\n",
            "\n",
            "Heart disease data set\n",
            "\n",
            "confusion_matrix:\n",
            "[[22 10]\n",
            " [ 7 22]]\n",
            "Accuracy: 0.7213114754098361\n",
            "Precision: 0.6875\n",
            "Recall: 0.7586206896551724\n"
          ]
        }
      ]
    },
    {
      "cell_type": "code",
      "source": [
        "dt_classifier.fit(p_train, q_train)\n",
        "dt_q_pred = dt_classifier.predict(p_test)\n",
        "\n",
        "print(\"Decision Tree Results:\\n\")\n",
        "print(\"Music data set:\\n \")\n",
        "print(\"confusion matrix: \")\n",
        "print(confusion_matrix(q_test, dt_q_pred))\n",
        "print(\"Accuracy:\", accuracy_score(q_test, dt_q_pred))\n",
        "print(\"Precision:\", precision_score(q_test, dt_q_pred,average='micro'))\n",
        "print(\"Recall:\", recall_score(q_test, dt_q_pred,average='micro'))\n"
      ],
      "metadata": {
        "colab": {
          "base_uri": "https://localhost:8080/"
        },
        "id": "6JS5sq5MpHUD",
        "outputId": "c6d2ff97-9cbb-4803-e132-a87c67443e98"
      },
      "execution_count": 6,
      "outputs": [
        {
          "output_type": "stream",
          "name": "stdout",
          "text": [
            "Decision Tree Results:\n",
            "\n",
            "Music data set:\n",
            " \n",
            "confusion matrix: \n",
            "[[14  1  0  3]\n",
            " [ 3 17  0  0]\n",
            " [ 5  1 10 12]\n",
            " [ 3  2  1  6]]\n",
            "Accuracy: 0.6025641025641025\n",
            "Precision: 0.6025641025641025\n",
            "Recall: 0.6025641025641025\n"
          ]
        }
      ]
    },
    {
      "cell_type": "code",
      "source": [
        "from sklearn.linear_model import LogisticRegression\n",
        "\n",
        "lr_classifier = LogisticRegression(random_state=42)\n",
        "lr_classifier.fit(X_train, y_train)\n",
        "\n",
        "lr_y_pred = lr_classifier.predict(X_test)\n",
        "\n",
        "print(\"Logistic Regression Results:\")\n",
        "print(\"Heart disease data set\\n\")\n",
        "print(\"confusion_matrix:\")\n",
        "print(confusion_matrix(y_test, lr_y_pred))\n",
        "print(\"Accuracy:\", accuracy_score(y_test, lr_y_pred))\n",
        "print(\"Precision:\", precision_score(y_test, lr_y_pred))\n",
        "print(\"Recall:\", recall_score(y_test, lr_y_pred))\n"
      ],
      "metadata": {
        "colab": {
          "base_uri": "https://localhost:8080/"
        },
        "id": "3WL4GZ6lgTll",
        "outputId": "41a516ba-2e85-4279-acd0-6b19665a40c5"
      },
      "execution_count": 7,
      "outputs": [
        {
          "output_type": "stream",
          "name": "stdout",
          "text": [
            "Logistic Regression Results:\n",
            "Heart disease data set\n",
            "\n",
            "confusion_matrix:\n",
            "[[21 11]\n",
            " [ 3 26]]\n",
            "Accuracy: 0.7704918032786885\n",
            "Precision: 0.7027027027027027\n",
            "Recall: 0.896551724137931\n"
          ]
        }
      ]
    },
    {
      "cell_type": "code",
      "source": [
        "lr_classifier.fit(p_train, q_train)\n",
        "lr_q_pred = lr_classifier.predict(p_test)\n",
        "\n",
        "print(\"Logistic regression Results:\\n\")\n",
        "print(\"Music data set:\\n \")\n",
        "print(\"confusion matrix: \")\n",
        "print(confusion_matrix(q_test, lr_q_pred))\n",
        "print(\"Accuracy:\", accuracy_score(q_test, lr_q_pred))\n",
        "print(\"Precision:\", precision_score(q_test, lr_q_pred, average='micro'))\n",
        "print(\"Recall:\", recall_score(q_test, lr_q_pred, average='micro'))"
      ],
      "metadata": {
        "colab": {
          "base_uri": "https://localhost:8080/"
        },
        "id": "ukTgithjw1vE",
        "outputId": "165787c4-9218-4a2f-d81c-fc013b60ef95"
      },
      "execution_count": 8,
      "outputs": [
        {
          "output_type": "stream",
          "name": "stdout",
          "text": [
            "Logistic regression Results:\n",
            "\n",
            "Music data set:\n",
            " \n",
            "confusion matrix: \n",
            "[[16  0  0  2]\n",
            " [ 1 15  1  3]\n",
            " [ 1  0 18  9]\n",
            " [ 2  1  1  8]]\n",
            "Accuracy: 0.7307692307692307\n",
            "Precision: 0.7307692307692307\n",
            "Recall: 0.7307692307692307\n"
          ]
        }
      ]
    },
    {
      "cell_type": "code",
      "source": [
        "from sklearn.neighbors import KNeighborsClassifier\n",
        "\n",
        "knn_classifier = KNeighborsClassifier(n_neighbors=5)\n",
        "knn_classifier.fit(X_train, y_train)\n",
        "\n",
        "knn_y_pred = knn_classifier.predict(X_test)\n",
        "\n",
        "print(\"K-Nearest Neighbors Results:\\n\")\n",
        "print(\"Heart disease data set\\n\")\n",
        "print(\"confusion_matrix:\")\n",
        "print(confusion_matrix(y_test, knn_y_pred))\n",
        "print(\"Accuracy:\", accuracy_score(y_test, knn_y_pred))\n",
        "print(\"Precision:\", precision_score(y_test, knn_y_pred))\n",
        "print(\"Recall:\", recall_score(y_test, knn_y_pred))\n"
      ],
      "metadata": {
        "colab": {
          "base_uri": "https://localhost:8080/"
        },
        "id": "ONPNsr8PgYZ-",
        "outputId": "220f5865-bbbc-49ce-ef6c-52e67d689f4a"
      },
      "execution_count": 9,
      "outputs": [
        {
          "output_type": "stream",
          "name": "stdout",
          "text": [
            "K-Nearest Neighbors Results:\n",
            "\n",
            "Heart disease data set\n",
            "\n",
            "confusion_matrix:\n",
            "[[21 11]\n",
            " [ 5 24]]\n",
            "Accuracy: 0.7377049180327869\n",
            "Precision: 0.6857142857142857\n",
            "Recall: 0.8275862068965517\n"
          ]
        }
      ]
    },
    {
      "cell_type": "code",
      "source": [
        "knn_classifier.fit(p_train, q_train)\n",
        "knn_q_pred = knn_classifier.predict(p_test)\n",
        "\n",
        "print(\"K-Nearest Neighbors Results:\\n\")\n",
        "print(\"Music data set\\n\")\n",
        "print(\"confusion_matrix:\")\n",
        "print(confusion_matrix(q_test, knn_q_pred))\n",
        "print(\"Accuracy:\", accuracy_score(q_test, knn_q_pred))\n",
        "print(\"Precision:\", precision_score(q_test, knn_q_pred, average='micro'))\n",
        "print(\"Recall:\", recall_score(q_test, knn_q_pred, average='micro'))"
      ],
      "metadata": {
        "colab": {
          "base_uri": "https://localhost:8080/"
        },
        "id": "ZcDewY5fyRrr",
        "outputId": "985ee157-a1d5-4632-9770-ecd45e2a257f"
      },
      "execution_count": 10,
      "outputs": [
        {
          "output_type": "stream",
          "name": "stdout",
          "text": [
            "K-Nearest Neighbors Results:\n",
            "\n",
            "Music data set\n",
            "\n",
            "confusion_matrix:\n",
            "[[16  2  0  0]\n",
            " [ 1 19  0  0]\n",
            " [ 4  0 16  8]\n",
            " [ 3  3  3  3]]\n",
            "Accuracy: 0.6923076923076923\n",
            "Precision: 0.6923076923076923\n",
            "Recall: 0.6923076923076923\n"
          ]
        }
      ]
    },
    {
      "cell_type": "markdown",
      "source": [
        "After evaluating the performance of the algorithms we infer the following:\n",
        "\n",
        "1. In the Heart Disease dataset, we observe that Naive Bayes algorithm\n",
        "achieved the highest accuracy of 85.24%, followed by Logistic Regression with 77% accuracy. In terms of precision and recall, Naive Bayes algorithm achieved the highest values of 83.33% and 86.2% respectively.\n",
        "\n",
        "2. In the Music Emotion Recognition dataset, we find that Naive Bayes algorithm achieved the highest accuracy of 78.2%, followed by Logistic Regression with 73% accuracy. In terms of precision and recall, Naive Bayes algorithm achieved the highest values of 78.2% and 78.2% respectively.\n",
        "\n",
        "Therefore Naive bayes and logistic algorithms are expected to give more accurate results compared to other algorithms."
      ],
      "metadata": {
        "id": "aQmT0nsdywjA"
      }
    }
  ]
}